{
 "cells": [
  {
   "cell_type": "markdown",
   "id": "2d474a3e-274d-4bf8-95f3-2c18179877d9",
   "metadata": {},
   "source": [
    "---\n",
    "title: Getting Started\n",
    "date: 2023-11-30 \n",
    "authors:\n",
    "  - name: Sébastien Boisgérault\n",
    "    email: Sebastien.Boisgerault@minesparis.psl.eu\n",
    "    url: https://github.com/boisgera\n",
    "    affiliations:\n",
    "      - institution: Mines Paris - PSL University\n",
    "        department: Institut des Transformation Numériques (ITN)\n",
    "github: boisgera\n",
    "license: CC-BY-4.0\n",
    "open_access: true\n",
    "---"
   ]
  },
  {
   "cell_type": "markdown",
   "id": "99eb7623-348a-4873-9200-614c9be5bdb6",
   "metadata": {},
   "source": [
    "![tldraw](images/hello-tldraw.png)    "
   ]
  },
  {
   "cell_type": "markdown",
   "id": "f2cbb2bd-92e6-4c23-95b5-7996e1850533",
   "metadata": {},
   "source": [
    "# A Simple Document"
   ]
  },
  {
   "cell_type": "markdown",
   "id": "c95958ae-0e8e-40b3-9a1a-963745eda44e",
   "metadata": {},
   "source": [
    "```{exercise} Create a \"Hello tldraw!\" document\n",
    "\n",
    " 1. Download the folder of this project on your computer. \n",
    "  \n",
    " 2. Create an tldraw document that contains the text \"Hello tldraw!\" and save it on your computer.\n",
    " \n",
    " 3. Rename your tldraw document `hello-tldraw.tldr` and move it into the `docs` subfolder of the project.\n",
    "```"
   ]
  },
  {
   "cell_type": "markdown",
   "id": "f663cb6a-c804-4438-a6bb-7132a7c86332",
   "metadata": {},
   "source": [
    "Tldraw files are (utf-8-encoded) text files and therefore can be easily inspected. \n",
    "\n",
    "```{exercise} What's the format of tldraw documents?\n",
    "\n",
    "  1. Print the content of your \"Hello tldraw!\" document into this notebook.\n",
    "\n",
    "  {\"tldrawFileFormatVersion\":1,\"schema\":{\"schemaVersion\":1,\"storeVersion\":4,\"recordVersions\":{\"asset\":{\"version\":1,\"subTypeKey\":\"type\",\"subTypeVersions\":{\"image\":3,\"video\":3,\"bookmark\":1}},\"camera\":{\"version\":1},\"document\":{\"version\":2},\"instance\":{\"version\":24},\"instance_page_state\":{\"version\":5},\"page\":{\"version\":1},\"shape\":{\"version\":3,\"subTypeKey\":\"type\",\"subTypeVersions\":{\"group\":0,\"text\":1,\"bookmark\":2,\"draw\":1,\"geo\":8,\"note\":5,\"line\":1,\"frame\":0,\"arrow\":3,\"highlight\":0,\"embed\":4,\"image\":3,\"video\":2}},\"instance_presence\":{\"version\":5},\"pointer\":{\"version\":1}}},\"records\":[{\"gridSize\":10,\"name\":\"\",\"meta\":{},\"id\":\"document:document\",\"typeName\":\"document\"},{\"meta\":{},\"id\":\"page:Qn4LAWtMJFJBRC2A65GeK\",\"name\":\"Page 1\",\"index\":\"a1\",\"typeName\":\"page\"},{\"lastActivityTimestamp\":1707682625335,\"followingUserId\":null,\"color\":\"#7B66DC\",\"camera\":{\"x\":-779.8658758625074,\"y\":15,\"z\":1},\"cursor\":{\"x\":1860.8658758625074,\"y\":-15,\"rotation\":0,\"type\":\"default\"},\"screenBounds\":{\"x\":0,\"y\":0,\"w\":1366,\"h\":643},\"selectedShapeIds\":[],\"brush\":null,\"scribbles\":[],\"chatMessage\":\"\",\"meta\":{},\"id\":\"instance_presence:rDr6AYmPecTLGcZQO6Haq\",\"userId\":\"P8MPX7q23kH5jLFmTMCeC\",\"userName\":\"New User\",\"currentPageId\":\"page:Qn4LAWtMJFJBRC2A65GeK\",\"typeName\":\"instance_presence\"},{\"x\":312.08333587646484,\"y\":234.8000030517578,\"rotation\":0,\"isLocked\":false,\"opacity\":1,\"meta\":{},\"type\":\"text\",\"props\":{\"color\":\"black\",\"size\":\"m\",\"w\":171.8333282470703,\"text\":\"Hello tldraw !\",\"font\":\"draw\",\"align\":\"middle\",\"autoSize\":true,\"scale\":4.425926571302357},\"parentId\":\"page:Qn4LAWtMJFJBRC2A65GeK\",\"index\":\"a1\",\"id\":\"shape:O50cLxRrcNGfQVgk0ftVS\",\"typeName\":\"shape\"},{\"id\":\"pointer:pointer\",\"typeName\":\"pointer\",\"x\":804,\"y\":27,\"lastActivityTimestamp\":1707682641049,\"meta\":{}},{\"followingUserId\":null,\"opacityForNextShape\":1,\"stylesForNextShape\":{},\"brush\":null,\"scribbles\":[],\"cursor\":{\"type\":\"default\",\"rotation\":0},\"isFocusMode\":false,\"exportBackground\":true,\"isDebugMode\":false,\"isToolLocked\":false,\"screenBounds\":{\"x\":0,\"y\":0,\"w\":1366,\"h\":643},\"insets\":[false,false,false,false],\"zoomBrush\":null,\"isGridMode\":false,\"isPenMode\":false,\"chatMessage\":\"\",\"isChatting\":false,\"highlightedUserIds\":[],\"canMoveCamera\":true,\"isFocused\":true,\"devicePixelRatio\":1,\"isCoarsePointer\":false,\"isHoveringCanvas\":false,\"openMenus\":[\"main menu\",\"main menu menu file\"],\"isChangingStyle\":false,\"isReadonly\":false,\"meta\":{},\"duplicateProps\":null,\"id\":\"instance:instance\",\"currentPageId\":\"page:Qn4LAWtMJFJBRC2A65GeK\",\"typeName\":\"instance\"},{\"editingShapeId\":null,\"croppingShapeId\":null,\"selectedShapeIds\":[],\"hoveredShapeId\":null,\"erasingShapeIds\":[],\"hintingShapeIds\":[],\"focusedGroupId\":null,\"meta\":{},\"id\":\"instance_page_state:page:Qn4LAWtMJFJBRC2A65GeK\",\"pageId\":\"page:Qn4LAWtMJFJBRC2A65GeK\",\"typeName\":\"instance_page_state\"},{\"x\":-780,\"y\":15,\"z\":1,\"meta\":{},\"id\":\"camera:page:Qn4LAWtMJFJBRC2A65GeK\",\"typeName\":\"camera\"}]}\n",
    "\n",
    "  2. The tldraw document format is a dialect of a general-purpose structured data format. \n",
    "  \n",
    "     Which one is it? (JSON, XML, CSV? something else?) Le texte ci-dessus est une représentation JSON du document tldraw.. L'intérêt est qu'il s'agit d'un format de données léger et lisible par les humains. \n",
    "\n",
    "```\n"
   ]
  },
  {
   "cell_type": "markdown",
   "id": "a8f5e1cc-1425-4394-8d73-47640d66d298",
   "metadata": {},
   "source": [
    "\n",
    "```{exercise} Load the document\n",
    ":label: load\n",
    "\n",
    " 1. Find the Python standard library that deals with the file format use by tldraw. La bibliothèque standard Python qui gère le format de fichier JSON utilisé par tldraw est json.\n",
    "\n",
    " 2. Use it to load the tldraw document as a tree-like structure (⚠️ not as a string!). Pour charger le document tldraw sous forme d'une structure arborescente, j'utilise la fonction json.loads du module json. Cette fonction analyse une chaîne JSON et renvoie un objet Python, (dictionnaire, liste) en fonction de la structure JSON.\n",
    "\n",
    " 3. Name this structure `hello`. Je propose le code suivant :\n",
    " import json\n",
    "\n",
    "# Ajout du document tldraw en tant que chaîne\n",
    "tldraw_document = '''\n",
    "{\"tldrawFileFormatVersion\":1,\"schema\":{\"schemaVersion\":1,\"storeVersion\":4,\"recordVersions\":{\"asset\":{\"version\":1,\"subTypeKey\":\"type\",\"subTypeVersions\":{\"image\":3,\"video\":3,\"bookmark\":1}},\"camera\":{\"version\":1},\"document\":{\"version\":2},\"instance\":{\"version\":24},\"instance_page_state\":{\"version\":5},\"page\":{\"version\":1},\"shape\":{\"version\":3,\"subTypeKey\":\"type\",\"subTypeVersions\":{\"group\":0,\"text\":1,\"bookmark\":2,\"draw\":1,\"geo\":8,\"note\":5,\"line\":1,\"frame\":0,\"arrow\":3,\"highlight\":0,\"embed\":4,\"image\":3,\"video\":2}},\"instance_presence\":{\"version\":5},\"pointer\":{\"version\":1}}},\"records\":[{\"gridSize\":10,\"name\":\"\",\"meta\":{},\"id\":\"document:document\",\"typeName\":\"document\"},{\"meta\":{},\"id\":\"page:Qn4LAWtMJFJBRC2A65GeK\",\"name\":\"Page 1\",\"index\":\"a1\",\"typeName\":\"page\"},{\"lastActivityTimestamp\":1707682625335,\"followingUserId\":null,\"color\":\"#7B66DC\",\"camera\":{\"x\":-779.8658758625074,\"y\":15,\"z\":1},\"cursor\":{\"x\":1860.8658758625074,\"y\":-15,\"rotation\":0,\"type\":\"default\"},\"screenBounds\":{\"x\":0,\"y\":0,\"w\":1366,\"h\":643},\"selectedShapeIds\":[],\"brush\":null,\"scribbles\":[],\"chatMessage\":\"\",\"meta\":{},\"id\":\"instance_presence:rDr6AYmPecTLGcZQO6Haq\",\"userId\":\"P8MPX7q23kH5jLFmTMCeC\",\"userName\":\"New User\",\"currentPageId\":\"page:Qn4LAWtMJFJBRC2A65GeK\",\"typeName\":\"instance_presence\"},{\"x\":312.08333587646484,\"y\":234.8000030517578,\"rotation\":0,\"isLocked\":false,\"opacity\":1,\"meta\":{},\"type\":\"text\",\"props\":{\"color\":\"black\",\"size\":\"m\",\"w\":171.8333282470703,\"text\":\"Hello tldraw !\",\"font\":\"draw\",\"align\":\"middle\",\"autoSize\":true,\"scale\":4.425926571302357},\"parentId\":\"page:Qn4LAWtMJFJBRC2A65GeK\",\"index\":\"a1\",\"id\":\"shape:O50cLxRrcNGfQVgk0ftVS\",\"typeName\":\"shape\"},{\"id\":\"pointer:pointer\",\"typeName\":\"pointer\",\"x\":804,\"y\":27,\"lastActivityTimestamp\":1707682641049,\"meta\":{}},{\"followingUserId\":null,\"opacityForNextShape\":1,\"stylesForNextShape\":{},\"brush\":null,\"scribbles\":[],\"cursor\":{\"type\":\"default\",\"rotation\":0},\"isFocusMode\":false,\"exportBackground\":true,\"isDebugMode\":false,\"isToolLocked\":false,\"screenBounds\":{\"x\":0,\"y\":0,\"w\":1366,\"h\":643},\"insets\":[false,false,false,false],\"zoomBrush\":null,\"isGridMode\":false,\"isPenMode\":false,\"chatMessage\":\"\",\"isChatting\":false,\"highlightedUserIds\":[],\"canMoveCamera\":true,\"isFocused\":true,\"devicePixelRatio\":1,\"isCoarsePointer\":false,\"isHoveringCanvas\":false,\"openMenus\":[\"main menu\",\"main menu menu file\"],\"isChangingStyle\":false,\"isReadonly\":false,\"meta\":{},\"duplicateProps\":null,\"id\":\"instance:instance\",\"currentPageId\":\"page:Qn4LAWtMJFJBRC2A65GeK\",\"typeName\":\"instance\"},{\"editingShapeId\":null,\"croppingShapeId\":null,\"selectedShapeIds\":[],\"hoveredShapeId\":null,\"erasingShapeIds\":[],\"hintingShapeIds\":[],\"focusedGroupId\":null,\"meta\":{},\"id\":\"instance_page_state:page:Qn4LAWtMJFJBRC2A65GeK\",\"pageId\":\"page:Qn4LAWtMJFJBRC2A65GeK\",\"typeName\":\"instance_page_state\"},{\"x\":-780,\"y\":15,\"z\":1,\"meta\":{},\"id\":\"camera:page:Qn4LAWtMJFJBRC2A65GeK\",\"typeName\":\"camera\"}]}\n",
    "'''\n",
    "\n",
    "# Charger le document tldraw dans une structure arborescente\n",
    "hello = json.loads(tldraw_document)\n",
    "\n",
    "# Afficher la structure résultante\n",
    "print(hello)"
   ]
  },
  {
   "cell_type": "markdown",
   "id": "a6ce392d-b8fa-4df2-a5e1-e5c9b81dffc8",
   "metadata": {},
   "source": [
    "# Records & Shapes"
   ]
  },
  {
   "cell_type": "markdown",
   "id": "c30a7788-e59e-42ab-a5da-c43aa1bb0872",
   "metadata": {},
   "source": [
    "```{exercise} Structure\n",
    ":label:\n",
    "\n",
    " 1. Can you locate a list of \"records\" inside `doc`? Name that list `records`. Pour localiser une liste de \"records\" à l'intérieur de hello, je nomme cette liste records :\n",
    "# Localiser la liste de \"records\" dans hello\n",
    "records = hello.get('records', [])\n",
    "\n",
    "# Afficher la liste de \"records\"\n",
    "print(records)\n",
    "\n",
    " 2. Records all have a type name. Can you list all of them? Les enregistrements ont tous un nom de type. Pour les lister, je propose : \n",
    " # Récupérer tous les noms de type des \"records\"\n",
    "type_names = [record.get('typeName', '') for record in records]\n",
    "\n",
    "# Afficher la liste des noms de type\n",
    "print(type_names)\n",
    "\n",
    " 3. There should be a single shape among your records. What's it's `type`? Je propose\n",
    "# Trouver le type du seul \"shape\" parmi les \"records\"\n",
    "shape_type = next((record.get('type') for record in records if record.get('type')), None)\n",
    "\n",
    "# Afficher le type du \"shape\"\n",
    "print(shape_type)\n",
    "\n",
    " 4. Name `hello_text` this record and display it in the notebook\n",
    " # Trouver le \"record\" correspondant au texte \"Hello tldraw !\"\n",
    "hello_text = next((record for record in records if record.get('type') == 'text' and record.get('props', {}).get('text') == 'Hello tldraw !'), None)\n",
    "\n",
    "# Afficher le \"record\" hello_text\n",
    "print(hello_text)\n",
    "\n",
    "```"
   ]
  },
  {
   "cell_type": "markdown",
   "id": "88a29de9-0fb7-4173-8f5e-29377e5e2147",
   "metadata": {},
   "source": [
    "# Edit the Document"
   ]
  },
  {
   "cell_type": "markdown",
   "id": "0e3880a5-049b-4d0a-a4aa-2678eff6406c",
   "metadata": {},
   "source": [
    "```{exercise} Text Content\n",
    "\n",
    "  1. Locate where in the `hello_text` record the text content is located.\n",
    "  \n",
    "  2. Replace \"Hello tldraw!\" with \"Hello Python!\"\n",
    "\n",
    "  3. Save the corresponding document in the directory `docs` as a `hello-python.tldr` file.\n",
    "\n",
    "  4. Load it in the tldraw editor and check that you end up with something similar to the picture below.\n",
    "\n",
    "Pour effectuer les actions demandées, je vais :\n",
    "\n",
    "    1. Localiser le texte dans l'enregistrement hello_text.\n",
    "    2. Remplacer \"Hello tldraw !\" par \"Hello Python!\".\n",
    "    3. Sauvegarder le document modifié dans le répertoire docs en tant que fichier hello-python.tldr.\n",
    "    4. Charger le fichier hello-python.tldr dans l'éditeur tldraw.\n",
    "  \n",
    "  import json\n",
    "\n",
    "# Charger le document tldraw dans une structure arborescente\n",
    "hello_text = next((record for record in records if record.get('type') == 'text' and record.get('props', {}).get('text') == 'Hello tldraw !'), None)\n",
    "\n",
    "# Localiser le texte dans l'enregistrement hello_text\n",
    "text_content = hello_text.get('props', {}).get('text')\n",
    "\n",
    "# Remplacer \"Hello tldraw !\" par \"Hello Python!\"\n",
    "modified_text_content = text_content.replace('Hello tldraw !', 'Hello Python!')\n",
    "\n",
    "# Mettre à jour le texte dans l'enregistrement hello_text\n",
    "hello_text['props']['text'] = modified_text_content\n",
    "\n",
    "# Enregistrer le document modifié dans le répertoire docs\n",
    "output_path = 'docs/hello-python.tldr'\n",
    "with open(output_path, 'w') as output_file:\n",
    "    json.dump(hello, output_file)\n",
    "\n",
    "print(f\"Document modifié enregistré dans {output_path}\")\n",
    "\n",
    "```"
   ]
  },
  {
   "cell_type": "markdown",
   "id": "1f95f445-0b47-4cea-a53b-b8d0a8bed59f",
   "metadata": {},
   "source": [
    "![](images/hello-python.png)"
   ]
  }
 ],
 "metadata": {
  "kernelspec": {
   "display_name": "Python 3 (ipykernel)",
   "language": "python",
   "name": "python3"
  },
  "language_info": {
   "codemirror_mode": {
    "name": "ipython",
    "version": 3
   },
   "file_extension": ".py",
   "mimetype": "text/x-python",
   "name": "python",
   "nbconvert_exporter": "python",
   "pygments_lexer": "ipython3",
   "version": "3.12.0"
  }
 },
 "nbformat": 4,
 "nbformat_minor": 5
}
